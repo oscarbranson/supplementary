{
 "cells": [
  {
   "attachments": {},
   "cell_type": "markdown",
   "metadata": {},
   "source": [
    "# <sup>13</sup>C Fractionation of Carbon Species and Solids\n",
    "\n",
    "## On isotope notation\n",
    "\n",
    "In all the following:\n",
    "$$\n",
    "\\begin{align}\n",
    "R &= \\frac{M_1}{M_0} \\\\\n",
    "\\alpha &= \\frac{R_{sample}}{R_{reference}} \\\\\n",
    "\\epsilon &= (\\alpha - 1) \\times 1000\n",
    "\\end{align}\n",
    "$$\n",
    "To avoid issues with non-linear mixing behaviour of ratios, isotope mixing calculations are conducted with fractional abundances:\n",
    "$$\n",
    "A = \\frac{M_1}{M_0 + M_1} = \\frac{R}{1 + R}\n",
    "$$\n",
    "Where:\n",
    "$$\n",
    "R = \\frac{A}{1 - A}\n",
    "$$\n",
    "\n",
    "## Fractionation of Carbon Species from Zhang et al. (1995)\n",
    "\n",
    "\n",
    "\n",
    "$$\n",
    "\\begin{align}\n",
    "\\epsilon_{CG} &= \\epsilon_{CO3-CO2(G)} = -(0.052 \\pm 0.021) T_C + (7.22 \\pm 0.38) ‰ \\\\\n",
    "\\epsilon_{BG} &= \\epsilon_{HCO3-CO2(G)} = -(0.1141 \\pm 0.0028) T_C + (10.78 \\pm 0.04) ‰\n",
    "\\end{align}\n",
    "$$"
   ]
  },
  {
   "cell_type": "code",
   "execution_count": 27,
   "metadata": {},
   "outputs": [],
   "source": [
    "import numpy as np\n",
    "import uncertainties.unumpy as unp\n",
    "import uncertainties as un\n",
    "import matplotlib.pyplot as plt\n",
    "\n",
    "nom = unp.nominal_values\n",
    "err = unp.std_devs\n",
    "\n",
    "%matplotlib inline"
   ]
  },
  {
   "cell_type": "code",
   "execution_count": 28,
   "metadata": {},
   "outputs": [],
   "source": [
    "def epsilon_CG(T):\n",
    "    m = un.ufloat(-0.052, 0.021)\n",
    "    c = un.ufloat(7.22, 0.38)\n",
    "    return m * T + c\n",
    "\n",
    "def alpha_CG(T):\n",
    "    return 1 + epsilon_CG(T) / 1000\n",
    "\n",
    "def epsilon_BG(T):\n",
    "    m = un.ufloat(-0.1141, 0.0028)\n",
    "    c = un.ufloat(10.78, 0.04)\n",
    "    return m * T + c\n",
    "\n",
    "def alpha_BG(T):\n",
    "    return 1 + epsilon_BG(T) / 1000\n",
    "\n",
    "def alpha_BC(T):\n",
    "    return alpha_BG(T) / alpha_CG(T)\n",
    "\n",
    "PDB_13C = 0.01118"
   ]
  },
  {
   "cell_type": "code",
   "execution_count": 29,
   "metadata": {},
   "outputs": [
    {
     "data": {
      "text/plain": [
       "[<matplotlib.lines.Line2D at 0x7f2f0f963390>]"
      ]
     },
     "execution_count": 29,
     "metadata": {},
     "output_type": "execute_result"
    },
    {
     "data": {
      "image/png": "[encoded data removed]",
      "text/plain": [
       "<Figure size 432x288 with 1 Axes>"
      ]
     },
     "metadata": {
      "needs_background": "light"
     },
     "output_type": "display_data"
    }
   ],
   "source": [
    "t = np.linspace(0, 40)\n",
    "\n",
    "eCG = epsilon_CG(t)\n",
    "aCG = alpha_CG(t)\n",
    "plt.plot(t, nom(aCG))\n",
    "\n",
    "eBG = epsilon_BG(t)\n",
    "aBG = alpha_BG(t)\n",
    "plt.plot(t, nom(aBG))"
   ]
  },
  {
   "cell_type": "code",
   "execution_count": 30,
   "metadata": {},
   "outputs": [
    {
     "data": {
      "text/plain": [
       "[<matplotlib.lines.Line2D at 0x7f2f0fed3320>]"
      ]
     },
     "execution_count": 30,
     "metadata": {},
     "output_type": "execute_result"
    },
    {
     "data": {
      "image/png": "[encoded data removed]",
      "text/plain": [
       "<Figure size 432x288 with 1 Axes>"
      ]
     },
     "metadata": {
      "needs_background": "light"
     },
     "output_type": "display_data"
    }
   ],
   "source": [
    "aBC = alpha_BC(t)\n",
    "plt.plot(t, nom(aBC))"
   ]
  },
  {
   "attachments": {},
   "cell_type": "markdown",
   "metadata": {},
   "source": [
    "## Fractionation of Calcite from Romanek et al. (1992)\n",
    "\n",
    "$$\n",
    "\\epsilon_{SB} = \\epsilon_{Solid-HCO3} = 1 \\pm 0.2 ‰\n",
    "$$"
   ]
  },
  {
   "cell_type": "code",
   "execution_count": 31,
   "metadata": {},
   "outputs": [],
   "source": [
    "epsilon_SB = un.ufloat(1, 0.2)\n",
    "alpha_SB = 1 + epsilon_SB / 1000"
   ]
  },
  {
   "cell_type": "markdown",
   "metadata": {},
   "source": [
    "### <sup>13</sup>C of BaCO3 solutions"
   ]
  },
  {
   "cell_type": "code",
   "execution_count": 33,
   "metadata": {},
   "outputs": [],
   "source": [
    "T = 25"
   ]
  },
  {
   "cell_type": "code",
   "execution_count": 34,
   "metadata": {},
   "outputs": [],
   "source": [
    "# measured 13C_PDB values of 13C CO3 stock solutions\n",
    "d_A18QP_raw = np.array([386.26, 390.93, 390.33, 390.13, 387.51])  # April18QP BaCO3 solution\n",
    "d_J18QP_raw = np.array([394.94, 395.55, 395.31, 397.20, 395.22])  # June18QP BaCO3 solution\n",
    "\n",
    "# calculate alpha values\n",
    "a_A18QP_raw = 1 + d_A18QP_raw / 1000\n",
    "a_J18QP_raw = 1 + d_J18QP_raw / 1000\n",
    "\n",
    "# calculate means\n",
    "a_A18QP = un.ufloat(a_A18QP_raw.mean(), a_A18QP_raw.std())\n",
    "a_J18QP = un.ufloat(a_J18QP_raw.mean(), a_J18QP_raw.std())"
   ]
  },
  {
   "cell_type": "code",
   "execution_count": 42,
   "metadata": {},
   "outputs": [],
   "source": [
    "# calculate bicarbonate alphas\n",
    "a_A18QP_HCO3 = a_A18QP * alpha_BC(T)\n",
    "a_J18QP_HCO3 = a_J18QP * alpha_BC(T)"
   ]
  },
  {
   "cell_type": "code",
   "execution_count": 43,
   "metadata": {},
   "outputs": [],
   "source": [
    "# calculate calcite alphas\n",
    "c_A18QP_HCO3 = a_A18QP_HCO3 * alpha_SB\n",
    "c_J18QP_HCO3 = a_J18QP_HCO3 * alpha_SB"
   ]
  }
 ],
 "metadata": {
  "kernelspec": {
   "display_name": "Python 3",
   "language": "python",
   "name": "python3"
  },
  "language_info": {
   "codemirror_mode": {
    "name": "ipython",
    "version": 3
   },
   "file_extension": ".py",
   "mimetype": "text/x-python",
   "name": "python",
   "nbconvert_exporter": "python",
   "pygments_lexer": "ipython3",
   "version": "3.9.6"
  }
 },
 "nbformat": 4,
 "nbformat_minor": 4
}
