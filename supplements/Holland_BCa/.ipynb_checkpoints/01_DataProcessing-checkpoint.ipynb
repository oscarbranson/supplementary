{
 "cells": [
  {
   "cell_type": "code",
   "execution_count": 78,
   "metadata": {},
   "outputs": [
    {
     "name": "stdout",
     "output_type": "stream",
     "text": [
      "The autoreload extension is already loaded. To reload it, use:\n",
      "  %reload_ext autoreload\n"
     ]
    }
   ],
   "source": [
    "%load_ext autoreload\n",
    "%autoreload 2\n",
    "\n",
    "import os\n",
    "import numpy as np\n",
    "import pandas as pd\n",
    "from b_funks import load, plot, csystem\n",
    "from b_funks.helpers import weighted_moving_average,  isolate_constant_conditions, make_figpath\n",
    "from cbsyst import Csys\n",
    "from scipy import stats\n",
    "import uncertainties as un\n",
    "from scipy.optimize import curve_fit\n",
    "\n",
    "import matplotlib.pyplot as plt\n",
    "%matplotlib inline"
   ]
  },
  {
   "cell_type": "code",
   "execution_count": 100,
   "metadata": {},
   "outputs": [],
   "source": [
    "# raw = load.raw_b_data('data/B_data_raw.csv', 'Orbulina')\n",
    "raw = load.raw_b_data('data/B_data_raw.csv')\n",
    "raw = raw.loc[:, [c for c in raw.columns if 'Unnamed' not in c]]\n",
    "raw.columns = pd.MultiIndex.from_product([['Measured'], raw.columns])\n",
    "\n",
    "# raw = raw.loc[raw.Measured.who == 'This Study']"
   ]
  },
  {
   "cell_type": "code",
   "execution_count": 101,
   "metadata": {},
   "outputs": [
    {
     "name": "stderr",
     "output_type": "stream",
     "text": [
      "Calculating 25C Corrections: 100%|██████████| 129/129 [00:01<00:00, 110.66it/s]\n",
      "Calculating Experimental T Corrections: 100%|██████████| 129/129 [00:01<00:00, 110.21it/s]\n",
      "Calculating MyAMI Constants: 100%|██████████| 34/34 [00:01<00:00, 18.90it/s]\n",
      "Calculating MyAMI Constants: 100%|██████████| 20/20 [00:01<00:00, 17.99it/s]\n",
      "Calculating MyAMI Constants: 100%|██████████| 17/17 [00:00<00:00, 19.28it/s]\n"
     ]
    }
   ],
   "source": [
    "raw = csystem.calc_pitzer_Csys(raw)\n",
    "raw = csystem.calc_MyAMI_Csys(raw)\n",
    "raw = csystem.mean_Csys(raw)"
   ]
  },
  {
   "cell_type": "code",
   "execution_count": 102,
   "metadata": {},
   "outputs": [],
   "source": [
    "raw.loc[:, ('csys_mid', 'Omega')] = raw.loc[:, ('csys_mid', 'CO3')] * 1e-6 * raw.loc[:, ('Measured', '[Ca]sw')] * 1e-3 / raw.loc[:, ('csys_mid', 'KspC')]"
   ]
  },
  {
   "cell_type": "markdown",
   "metadata": {},
   "source": [
    "## Estimate Uncertainties in Data"
   ]
  },
  {
   "cell_type": "code",
   "execution_count": 103,
   "metadata": {},
   "outputs": [],
   "source": [
    "kh = raw.loc[raw.Measured.who == 'This Study']"
   ]
  },
  {
   "cell_type": "code",
   "execution_count": 104,
   "metadata": {},
   "outputs": [
    {
     "name": "stderr",
     "output_type": "stream",
     "text": [
      "/home/oscar/.python/py3/lib/python3.9/site-packages/pandas/core/indexing.py:1596: SettingWithCopyWarning: \n",
      "A value is trying to be set on a copy of a slice from a DataFrame.\n",
      "Try using .loc[row_indexer,col_indexer] = value instead\n",
      "\n",
      "See the caveats in the documentation: https://pandas.pydata.org/pandas-docs/stable/user_guide/indexing.html#returning-a-view-versus-a-copy\n",
      "  self.obj[key] = _infer_fill_value(value)\n",
      "/home/oscar/.python/py3/lib/python3.9/site-packages/pandas/core/indexing.py:1743: SettingWithCopyWarning: \n",
      "A value is trying to be set on a copy of a slice from a DataFrame.\n",
      "Try using .loc[row_indexer,col_indexer] = value instead\n",
      "\n",
      "See the caveats in the documentation: https://pandas.pydata.org/pandas-docs/stable/user_guide/indexing.html#returning-a-view-versus-a-copy\n",
      "  isetter(ilocs[0], value)\n"
     ]
    }
   ],
   "source": [
    "kh.loc[:, ('Measured', 'B/Caf_std')] = kh.loc[:, ('Measured', 'B/Caf_err')] * 0.5 * kh.loc[:, ('Measured', 'numberforams')]**0.5\n",
    "kh.loc[:, ('Measured', 'B/Caf_rsd')] = kh.loc[:, ('Measured', 'B/Caf_std')] / kh.loc[:, ('Measured', 'B/Caf')]"
   ]
  },
  {
   "cell_type": "code",
   "execution_count": 105,
   "metadata": {},
   "outputs": [
    {
     "data": {
      "image/png": "[encoded data removed]",
      "text/plain": [
       "<Figure size 576x288 with 3 Axes>"
      ]
     },
     "metadata": {
      "needs_background": "light"
     },
     "output_type": "display_data"
    }
   ],
   "source": [
    "fig, (ax1, ax2) = plt.subplots(1, 2, figsize=[8, 4], constrained_layout=True)\n",
    "\n",
    "ma = ax1.scatter(kh.loc[:, ('Measured', 'B/Caf')], kh.loc[:, ('Measured', 'B/Caf_rsd')], c=kh.loc[:, ('Measured', 'numberforams')])\n",
    "fig.colorbar(ma, ax=ax1, label='N Forams')\n",
    "\n",
    "ax2.hist(kh.loc[:, ('Measured', 'B/Caf_rsd')])\n",
    "\n",
    "RSD_BCa = kh.loc[:, ('Measured', 'B/Caf_rsd')].median()\n",
    "\n",
    "ax2.axvline(RSD_BCa, color='r', ls='dashed')\n",
    "ax2.text(RSD_BCa + 0.05, 10, f'Median RSD: {RSD_BCa:.2f}', color='r')\n",
    "\n",
    "ax1.set_xlim(ax1.get_xlim())\n",
    "\n",
    "xn = np.linspace(ax1.get_xlim(), 2)\n",
    "ax1.axhline(RSD_BCa, color='r', ls='dashed')\n",
    "\n",
    "ax1.set_ylabel('B/Ca RSD')\n",
    "ax1.set_xlabel('$B/Ca_{foram}~\\mu mol~ mol^{-1}$')\n",
    "\n",
    "ax2.set_xlabel('B/Ca RSD')\n",
    "\n",
    "fig.savefig(make_figpath('S1_ForamRSD.pdf'))"
   ]
  },
  {
   "cell_type": "code",
   "execution_count": 106,
   "metadata": {},
   "outputs": [
    {
     "data": {
      "text/plain": [
       "0.16909075202287008"
      ]
     },
     "execution_count": 106,
     "metadata": {},
     "output_type": "execute_result"
    }
   ],
   "source": [
    "RSD_BCa"
   ]
  },
  {
   "cell_type": "code",
   "execution_count": 107,
   "metadata": {},
   "outputs": [],
   "source": [
    "# estimate std from RSD and measured B/Ca\n",
    "raw.loc[:, ('Uncertainties', 'estimated_std')] = raw.loc[:, ('Measured', 'B/Caf')] * RSD_BCa\n",
    "\n",
    "# get reported uncertainty\n",
    "raw.loc[:, ('Uncertainties', 'reported_std')] = raw.loc[:, ('Measured', 'B/Caf_err')]\n",
    "# convert to std\n",
    "ind = raw.Measured.loc[:, 'err_type'] == '2x longterm RSD of analysis method'\n",
    "raw.loc[~ind, ('Uncertainties', 'reported_std')] *= 0.5 * raw.loc[~ind, ('Measured', 'numberforams')]**0.5  # values in table are 2xSE calculated from multiple analysed specimens\n",
    "raw.loc[ind, ('Uncertainties', 'reported_std')] /= 2  # values in table are 2xSTD *calculated* from long-term RSD\n",
    "\n",
    "# Henehan special case\n",
    "ind = raw.Measured.loc[:, 'err_type'] == 'Uncertainty on culture B/Ca is estimated as a quadratic addition of 5% errors in culture and control measurements'\n",
    "raw.loc[ind, ('Uncertainties', 'reported_std')] = raw.loc[ind, ('Measured', 'B/Caf_err')]\n",
    "\n",
    "# where estimated uncertainty is larger than reported, use estimated\n",
    "raw.loc[:, ('Uncertainties', 'std')] = raw.loc[:, ('Uncertainties', 'reported_std')]\n",
    "ind = raw.loc[:, ('Uncertainties', 'reported_std')] < raw.loc[:, ('Uncertainties', 'estimated_std')]\n",
    "raw.loc[ind, ('Uncertainties', 'std')] = raw.loc[:, ('Uncertainties', 'estimated_std')]\n",
    "\n",
    "# calculate SE and CI95\n",
    "raw.loc[:, ('Uncertainties', 'se')] = raw.loc[:, ('Uncertainties', 'std')] / raw.loc[:, ('Measured', 'numberforams')]**0.5\n",
    "raw.loc[:, ('Uncertainties', 'ci95')] = raw.loc[:, ('Uncertainties', 'se')] * stats.t.interval(0.95, df=raw.loc[:, ('Measured', 'numberforams')] - 1)[-1]\n",
    "raw.loc[:, ('Uncertainties', 'ci68')] = raw.loc[:, ('Uncertainties', 'se')] * stats.t.interval(0.68, df=raw.loc[:, ('Measured', 'numberforams')] - 1)[-1]"
   ]
  },
  {
   "cell_type": "code",
   "execution_count": 109,
   "metadata": {},
   "outputs": [],
   "source": [
    "raw.to_csv('data/B_compiled.csv')"
   ]
  },
  {
   "cell_type": "code",
   "execution_count": null,
   "metadata": {},
   "outputs": [],
   "source": []
  }
 ],
 "metadata": {
  "kernelspec": {
   "display_name": "Python 3",
   "language": "python",
   "name": "python3"
  },
  "language_info": {
   "codemirror_mode": {
    "name": "ipython",
    "version": 3
   },
   "file_extension": ".py",
   "mimetype": "text/x-python",
   "name": "python",
   "nbconvert_exporter": "python",
   "pygments_lexer": "ipython3",
   "version": "3.9.7"
  }
 },
 "nbformat": 4,
 "nbformat_minor": 4
}
