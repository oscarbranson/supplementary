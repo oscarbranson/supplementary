{
 "cells": [
  {
   "cell_type": "code",
   "execution_count": 2,
   "metadata": {},
   "outputs": [],
   "source": [
    "import numpy as np\n",
    "import pandas as pd\n",
    "import cbsyst as cb"
   ]
  },
  {
   "cell_type": "markdown",
   "metadata": {},
   "source": [
    "## Load data"
   ]
  },
  {
   "cell_type": "code",
   "execution_count": 4,
   "metadata": {},
   "outputs": [],
   "source": [
    "dat = pd.read_csv('Henehan_2015.csv', header=[0,1])"
   ]
  },
  {
   "cell_type": "markdown",
   "metadata": {},
   "source": [
    "## Calculate carbon system"
   ]
  },
  {
   "cell_type": "code",
   "execution_count": 5,
   "metadata": {},
   "outputs": [],
   "source": [
    "# Calculate from DIC and TA\n",
    "sw = cb.CBsys(\n",
    "    DIC=dat[('measured', 'DIC')],\n",
    "    TA=dat[('measured', 'TA')],\n",
    "    T_in=dat[('measured', 'temp_C')],\n",
    "    S_in=dat[('measured', 'sal')],\n",
    ")\n",
    "\n",
    "# 4. add to dataframe\n",
    "for v in ['DIC', 'TA', 'CO3', 'HCO3', 'CO2', 'pCO2', 'BO4', 'BO3', 'BT', 'T_in', 'S_in', 'P_in']:\n",
    "    dat[('calculated', v)] = sw[v]"
   ]
  },
  {
   "cell_type": "code",
   "execution_count": 6,
   "metadata": {},
   "outputs": [],
   "source": [
    "dat.sort_index(1).to_csv('Henehan_2015_compiled.csv')"
   ]
  },
  {
   "cell_type": "code",
   "execution_count": 17,
   "metadata": {},
   "outputs": [],
   "source": [
    "import matplotlib.pyplot as plt\n",
    "import uncertainties as un\n",
    "import uncertainties.unumpy as unp\n",
    "from scipy import stats\n",
    "from sklearn import metrics"
   ]
  },
  {
   "cell_type": "code",
   "execution_count": 13,
   "metadata": {},
   "outputs": [
    {
     "data": {
      "text/plain": [
       "(-1.785376160376577+/-9.268512263272404,\n",
       " 135.34296905886873+/-64.70102344713752)"
      ]
     },
     "execution_count": 13,
     "metadata": {},
     "output_type": "execute_result"
    },
    {
     "data": {
      "image/png": "[encoded data removed]",
      "text/plain": [
       "<Figure size 432x288 with 1 Axes>"
      ]
     },
     "metadata": {
      "needs_background": "light"
     },
     "output_type": "display_data"
    }
   ],
   "source": [
    "for s in dat.metadata.species.unique():\n",
    "    ind = dat.metadata.species == s\n",
    "    plt.scatter(dat.calculated.BO4[ind] / dat.calculated.CO3[ind]**0.5, dat.measured['B/Ca'][ind], label=s)\n",
    "    \n",
    "plt.legend()\n",
    "\n",
    "p, cov = np.polyfit(dat.calculated.BO4[ind] / dat.calculated.CO3[ind]**0.5, dat.measured['B/Ca'][ind], 1, cov=True)\n",
    "pu = un.correlated_values(p, cov)\n",
    "\n",
    "xn = np.linspace(6.2, 7.8)\n",
    "pred = np.polyval(pu, xn)\n",
    "plt.plot(xn, unp.nominal_values(pred))\n",
    "plt.fill_between(xn, unp.nominal_values(pred) - unp.std_devs(pred), unp.nominal_values(pred) + unp.std_devs(pred), alpha=0.3)\n",
    "\n",
    "pu"
   ]
  },
  {
   "cell_type": "code",
   "execution_count": 21,
   "metadata": {},
   "outputs": [
    {
     "data": {
      "text/plain": [
       "0.000741561587060735"
      ]
     },
     "execution_count": 21,
     "metadata": {},
     "output_type": "execute_result"
    }
   ],
   "source": [
    "metrics.r2_score(dat.measured['B/Ca'][ind], np.polyval(p, dat.calculated.BO4[ind] / dat.calculated.CO3[ind]**0.5))"
   ]
  }
 ],
 "metadata": {
  "kernelspec": {
   "display_name": "py3",
   "language": "python",
   "name": "py3"
  },
  "language_info": {
   "codemirror_mode": {
    "name": "ipython",
    "version": 3
   },
   "file_extension": ".py",
   "mimetype": "text/x-python",
   "name": "python",
   "nbconvert_exporter": "python",
   "pygments_lexer": "ipython3",
   "version": "3.9.6"
  }
 },
 "nbformat": 4,
 "nbformat_minor": 4
}
