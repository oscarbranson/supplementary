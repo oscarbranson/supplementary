{
 "cells": [
  {
   "cell_type": "code",
   "execution_count": 1,
   "metadata": {},
   "outputs": [],
   "source": [
    "import numpy as np\n",
    "import pandas as pd\n",
    "import cbsyst as cb"
   ]
  },
  {
   "cell_type": "markdown",
   "metadata": {},
   "source": [
    "## Load raw data"
   ]
  },
  {
   "cell_type": "code",
   "execution_count": 29,
   "metadata": {},
   "outputs": [],
   "source": [
    "umbonif = pd.read_excel('Brown_2011.ods', sheet_name='S1. N. umbonifera', skiprows=[0,1,3,4]).dropna(subset=['B/Ca'])\n",
    "umbonif['species'] = 'N. umbonifera'\n",
    "\n",
    "umbonat = pd.read_excel('Brown_2011.ods', sheet_name='S2. O. umbonatus', skiprows=[0,1,3,4]).dropna(subset=['B/Ca'])\n",
    "umbonat['species'] = 'O. umbonatus'\n",
    "\n",
    "wuell = pd.read_excel('Brown_2011.ods', sheet_name='S3. C. wuellerstorfi', skiprows=[0,1,3,4]).dropna(subset=['B/Ca'])\n",
    "wuell['species'] = 'C. wuellerstorfi'\n"
   ]
  },
  {
   "cell_type": "markdown",
   "metadata": {},
   "source": [
    "## Combine tables"
   ]
  },
  {
   "cell_type": "code",
   "execution_count": 31,
   "metadata": {},
   "outputs": [],
   "source": [
    "varmap = {\n",
    "    'Lat.': 'lat',\n",
    "    'Long.': 'lon',\n",
    "    'WD': 'depth_m',\n",
    "    'Sample depth': 'sample_depth',\n",
    "    ' pH': 'pHtot',\n",
    "    'BWT': 'temp_C',\n",
    "    '[B]tot': 'BT',\n",
    "    '[B(OH)4-]/[HCO3-]': 'BOH4_HCO3',\n",
    "    'B/Ca': 'B/Ca',\n",
    "    '1 std dev': 'B/Ca_std',\n",
    "    'species': 'species'\n",
    "}\n",
    "\n",
    "comb = []\n",
    "\n",
    "for df in [wuell, umbonat, umbonif]:\n",
    "    \n",
    "    tmp = pd.DataFrame(columns=varmap.values())\n",
    "    for k, v in varmap.items():\n",
    "        tmp[v] = df.loc[:, k]\n",
    "\n",
    "    comb.append(tmp)\n",
    "\n",
    "dat = pd.concat(comb)"
   ]
  },
  {
   "cell_type": "code",
   "execution_count": 32,
   "metadata": {},
   "outputs": [],
   "source": [
    "dat['shortref'] = 'Brown2011'\n",
    "dat['doi'] = '10.1016/j.epsl.2011.08.023'"
   ]
  },
  {
   "cell_type": "code",
   "execution_count": 33,
   "metadata": {},
   "outputs": [],
   "source": [
    "meta_cols = ['shortref', 'doi', 'species', 'lat', 'lon', 'sample_depth']\n",
    "\n",
    "cols = []\n",
    "for c in dat.columns:\n",
    "    if c in meta_cols:\n",
    "        cols.append(('metadata', c))\n",
    "    else:\n",
    "        cols.append(('measured', c))\n",
    "        \n",
    "dat.columns = pd.MultiIndex.from_tuples(cols)\n",
    "dat.sort_index(1, inplace=True)"
   ]
  },
  {
   "cell_type": "markdown",
   "metadata": {},
   "source": [
    "## Calculate carbon system"
   ]
  },
  {
   "cell_type": "code",
   "execution_count": 35,
   "metadata": {},
   "outputs": [],
   "source": [
    "# 1. calculate [BOH4]\n",
    "S = 35 * dat[('measured', 'BT')] / 416\n",
    "bsys = cb.Bsys(\n",
    "    pHtot=dat[('measured', 'pHtot')],\n",
    "    BT=dat[('measured', 'BT')],\n",
    "    T_in=dat[('measured', 'temp_C')],\n",
    "    S_in=S,\n",
    "    P_in=dat[('measured', 'depth_m')] / 10,\n",
    "    dBT=39.6\n",
    ")\n",
    "\n",
    "# 2. Calculate HCO3\n",
    "HCO3 = bsys.BO4 / dat[('measured', 'BOH4_HCO3')]\n",
    "\n",
    "# 3. Calculate DIC and TA\n",
    "sw = cb.CBsys(\n",
    "    pHtot=dat[('measured', 'pHtot')],\n",
    "    HCO3=HCO3,\n",
    "    T_in=dat[('measured', 'temp_C')],\n",
    "    S_in=S,\n",
    "    P_in=dat[('measured', 'depth_m')] / 10,\n",
    ")\n",
    "\n",
    "# 4. add to dataframe\n",
    "for v in ['DIC', 'TA', 'CO3', 'HCO3', 'CO2', 'pCO2', 'BO4', 'BO3', 'BT', 'T_in', 'S_in', 'P_in']:\n",
    "    dat[('calculated', v)] = sw[v]"
   ]
  },
  {
   "cell_type": "code",
   "execution_count": 36,
   "metadata": {},
   "outputs": [],
   "source": [
    "dat.sort_index(1).to_csv('Brown_2011_compiled.csv')"
   ]
  },
  {
   "cell_type": "code",
   "execution_count": null,
   "metadata": {},
   "outputs": [],
   "source": []
  },
  {
   "cell_type": "code",
   "execution_count": 37,
   "metadata": {},
   "outputs": [],
   "source": [
    "import matplotlib.pyplot as plt"
   ]
  },
  {
   "cell_type": "code",
   "execution_count": 38,
   "metadata": {},
   "outputs": [
    {
     "data": {
      "text/plain": [
       "<matplotlib.legend.Legend at 0x7f33f938c7f0>"
      ]
     },
     "execution_count": 38,
     "metadata": {},
     "output_type": "execute_result"
    },
    {
     "data": {
      "image/png": "[encoded data removed]",
      "text/plain": [
       "<Figure size 432x288 with 1 Axes>"
      ]
     },
     "metadata": {
      "needs_background": "light"
     },
     "output_type": "display_data"
    }
   ],
   "source": [
    "for s in dat.metadata.species.unique():\n",
    "    ind = dat.metadata.species == s\n",
    "    plt.scatter(dat.calculated.BO4[ind] / dat.calculated.CO3[ind]**0.5, dat.measured['B/Ca'][ind], label=s)\n",
    "    \n",
    "plt.legend()"
   ]
  },
  {
   "cell_type": "code",
   "execution_count": null,
   "metadata": {},
   "outputs": [],
   "source": []
  }
 ],
 "metadata": {
  "kernelspec": {
   "display_name": "py3",
   "language": "python",
   "name": "py3"
  },
  "language_info": {
   "codemirror_mode": {
    "name": "ipython",
    "version": 3
   },
   "file_extension": ".py",
   "mimetype": "text/x-python",
   "name": "python",
   "nbconvert_exporter": "python",
   "pygments_lexer": "ipython3",
   "version": "3.9.6"
  }
 },
 "nbformat": 4,
 "nbformat_minor": 4
}
