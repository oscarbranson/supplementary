{
 "cells": [
  {
   "cell_type": "code",
   "execution_count": 1,
   "metadata": {},
   "outputs": [],
   "source": [
    "import numpy as np\n",
    "import pandas as pd\n",
    "import cbsyst as cb"
   ]
  },
  {
   "cell_type": "markdown",
   "metadata": {},
   "source": [
    "## Load raw data"
   ]
  },
  {
   "cell_type": "code",
   "execution_count": 40,
   "metadata": {},
   "outputs": [],
   "source": [
    "ninco = pd.read_excel('Krupinski_2017.xlsx', sheet_name='S1_Ninco', skiprows=[0,1,3], engine=\"openpyxl\").dropna(subset=['B/Ca (μmol/mol)'])\n",
    "ninco['species'] = 'N. incompta'\n",
    "\n",
    "bull = pd.read_excel('Krupinski_2017.xlsx', sheet_name='S2_Gbull', skiprows=[0,1,3], engine=\"openpyxl\").dropna(subset=['B/Ca (μmol/mol)'])\n",
    "bull['species'] = 'G. bulloides'"
   ]
  },
  {
   "cell_type": "markdown",
   "metadata": {},
   "source": [
    "## Combine tables"
   ]
  },
  {
   "cell_type": "code",
   "execution_count": 101,
   "metadata": {},
   "outputs": [],
   "source": [
    "varmap = {\n",
    "    'Lat., °N': 'lat',\n",
    "    'Long., °E': 'lon',\n",
    "    'core water depth, m': 'core_depth_m',\n",
    "    'Cal. depth m': 'depth_m',\n",
    "    'B/Ca (μmol/mol)': 'B/Ca',\n",
    "    'species': 'species',\n",
    "    'Coretop ID, sample depth (cm)': 'site_info',\n",
    "    'Mg/Ca calcif. temp. ': 'temp_C_MgCa',\n",
    "    'δ18O calcif. temp. ':  'temp_C_d18O',\n",
    "    'Salin.': 'sal',\n",
    "    'Temp °C': 'temp_C',\n",
    "    'PO4 μmol/kg': 'TP',\n",
    "    'SiO3 μmol/kg': 'TS',\n",
    "    'Alkalin (μmol/kg)': 'TA',\n",
    "    'TCO2 1 μmol/kg': 'DIC'\n",
    "}\n",
    "\n",
    "comb = []\n",
    "\n",
    "for df in [ninco, bull]:\n",
    "    \n",
    "    tmp = pd.DataFrame(columns=varmap.values())\n",
    "    for k, v in varmap.items():\n",
    "        tmp[v] = df.loc[:, k]\n",
    "\n",
    "    comb.append(tmp)\n",
    "\n",
    "dat = pd.concat(comb)"
   ]
  },
  {
   "cell_type": "code",
   "execution_count": 102,
   "metadata": {},
   "outputs": [],
   "source": [
    "dat['shortref'] = 'Krupinski2017'\n",
    "dat['doi'] = '10.1016/j.epsl.2017.03.007'"
   ]
  },
  {
   "cell_type": "code",
   "execution_count": 103,
   "metadata": {},
   "outputs": [],
   "source": [
    "meta_cols = ['shortref', 'doi', 'species', 'site_info', 'lat', 'lon', 'core_depth_m']\n",
    "\n",
    "cols = []\n",
    "for c in dat.columns:\n",
    "    if c in meta_cols:\n",
    "        cols.append(('metadata', c))\n",
    "    else:\n",
    "        cols.append(('measured', c))\n",
    "        \n",
    "dat.columns = pd.MultiIndex.from_tuples(cols)\n",
    "dat.sort_index(1, inplace=True)\n",
    "\n",
    "dat.replace('-', np.nan, inplace=True)\n",
    "dat.measured = dat.measured.astype(float)"
   ]
  },
  {
   "cell_type": "markdown",
   "metadata": {},
   "source": [
    "## Calculate carbon system"
   ]
  },
  {
   "cell_type": "code",
   "execution_count": 104,
   "metadata": {},
   "outputs": [],
   "source": [
    "# 1. Calculate from DIC and TA\n",
    "sw = cb.CBsys(\n",
    "    DIC=dat[('measured', 'DIC')],\n",
    "    TA=dat[('measured', 'TA')],\n",
    "    T_in=dat[('measured', 'temp_C')],\n",
    "    S_in=dat[('measured', 'sal')],\n",
    "    P_in=dat[('measured', 'depth_m')] / 10,\n",
    "    TS=dat[('measured', 'TS')],\n",
    "    TP=dat[('measured', 'TP')],\n",
    ")\n",
    "\n",
    "# 4. add to dataframe\n",
    "for v in ['DIC', 'TA', 'CO3', 'HCO3', 'CO2', 'pCO2', 'BO4', 'BO3', 'BT', 'T_in', 'S_in', 'P_in']:\n",
    "    dat[('calculated', v)] = sw[v]"
   ]
  },
  {
   "cell_type": "code",
   "execution_count": 105,
   "metadata": {},
   "outputs": [],
   "source": [
    "dat.sort_index(1).to_csv('Krupinski_2017_compiled.csv')"
   ]
  },
  {
   "cell_type": "code",
   "execution_count": 106,
   "metadata": {},
   "outputs": [],
   "source": [
    "import matplotlib.pyplot as plt"
   ]
  },
  {
   "cell_type": "code",
   "execution_count": 107,
   "metadata": {},
   "outputs": [
    {
     "data": {
      "text/plain": [
       "<matplotlib.legend.Legend at 0x7f33fe222310>"
      ]
     },
     "execution_count": 107,
     "metadata": {},
     "output_type": "execute_result"
    },
    {
     "data": {
      "image/png": "[encoded data removed]",
      "text/plain": [
       "<Figure size 432x288 with 1 Axes>"
      ]
     },
     "metadata": {
      "needs_background": "light"
     },
     "output_type": "display_data"
    }
   ],
   "source": [
    "for s in dat.metadata.species.unique():\n",
    "    ind = dat.metadata.species == s\n",
    "    plt.scatter(dat.calculated.BO4[ind] / dat.calculated.CO3[ind]**0.5, dat.measured['B/Ca'][ind], label=s)\n",
    "    \n",
    "plt.legend()"
   ]
  },
  {
   "cell_type": "code",
   "execution_count": null,
   "metadata": {},
   "outputs": [],
   "source": []
  }
 ],
 "metadata": {
  "kernelspec": {
   "display_name": "py3",
   "language": "python",
   "name": "py3"
  },
  "language_info": {
   "codemirror_mode": {
    "name": "ipython",
    "version": 3
   },
   "file_extension": ".py",
   "mimetype": "text/x-python",
   "name": "python",
   "nbconvert_exporter": "python",
   "pygments_lexer": "ipython3",
   "version": "3.9.6"
  }
 },
 "nbformat": 4,
 "nbformat_minor": 4
}
